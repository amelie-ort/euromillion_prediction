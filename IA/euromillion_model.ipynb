{
 "cells": [
  {
   "cell_type": "markdown",
   "metadata": {},
   "source": [
    "# EUROMILLION PREDICTION\n",
    "Création d'un **modèle linéaire régressif** pour prédire la probabilité de victoire au jeu télévisé **EuroMillion**"
   ]
  },
  {
   "cell_type": "markdown",
   "metadata": {},
   "source": [
    "## Import des libraries et données"
   ]
  },
  {
   "cell_type": "code",
   "execution_count": 87,
   "metadata": {},
   "outputs": [],
   "source": [
    "import pandas as pd\n",
    "import numpy as np\n",
    "import statsmodels.api as sm\n",
    "from sklearn.linear_model import LogisticRegression\n",
    "from sklearn.model_selection import train_test_split\n",
    "data = pd.read_csv(\"EuroMillions_numbers.csv\", sep=';')"
   ]
  },
  {
   "cell_type": "markdown",
   "metadata": {},
   "source": [
    "## Formattage des données\n",
    "Formattage des données pour ne garder que les **variables quantitatives nécessaires** et ajout de la mention **\"a gagné\"**  \n",
    "Création d'un **set de donnée aléatoire** contenant des valeurs perdantes  \n",
    "Séparation des données en une **table d'entrainement** et une **table de test** avec un ration de *80/20*  \n"
   ]
  },
  {
   "cell_type": "code",
   "execution_count": 120,
   "metadata": {},
   "outputs": [],
   "source": [
    "formatted_data = data[[\"N1\", \"N2\", \"N3\", \"N4\", \"N5\", \"E1\", \"E2\"]].assign(HasWin = np.ones(data.shape[0], dtype=int))\n",
    "false_data_np = np.hstack((np.random.randint(50, size=(4*data.shape[0], 5)), np.random.randint(12, size=(4*data.shape[0], 2)), np.zeros((1, 4*data.shape[0]), dtype=int).T))\n",
    "false_data = pd.DataFrame(\n",
    "    data=false_data_np,\n",
    "    columns=[\"N1\", \"N2\", \"N3\", \"N4\", \"N5\", \"E1\", \"E2\", \"HasWin\"],\n",
    "    index=list(range(data.shape[0], data.shape[0] + false_data_np.shape[0]))\n",
    ")\n",
    "total_data = pd.concat([formatted_data, false_data])\n",
    "\n",
    "train_data, test_data = train_test_split(total_data, test_size=0.2)"
   ]
  },
  {
   "cell_type": "markdown",
   "metadata": {},
   "source": [
    "## Création du modèle régressif linéaire"
   ]
  },
  {
   "cell_type": "code",
   "execution_count": 121,
   "metadata": {},
   "outputs": [
    {
     "data": {
      "text/plain": [
       "LogisticRegression(C=1.0, class_weight=None, dual=False, fit_intercept=True,\n",
       "                   intercept_scaling=1, l1_ratio=None, max_iter=100,\n",
       "                   multi_class='auto', n_jobs=None, penalty='l2',\n",
       "                   random_state=None, solver='newton-cg', tol=0.0001, verbose=0,\n",
       "                   warm_start=False)"
      ]
     },
     "execution_count": 121,
     "metadata": {},
     "output_type": "execute_result"
    }
   ],
   "source": [
    "x = train_data.drop('HasWin', 1)\n",
    "y = train_data['HasWin'].astype('category').cat.codes\n",
    "\n",
    "modele_logit = LogisticRegression(solver=\"newton-cg\")\n",
    "modele_logit.fit(x,y)"
   ]
  },
  {
   "cell_type": "markdown",
   "metadata": {},
   "source": [
    "## Test de l'efficacité du modèle"
   ]
  },
  {
   "cell_type": "code",
   "execution_count": 131,
   "metadata": {},
   "outputs": [
    {
     "data": {
      "text/plain": [
       "'Le modèle fonctionne dans 78% des cas'"
      ]
     },
     "execution_count": 131,
     "metadata": {},
     "output_type": "execute_result"
    }
   ],
   "source": [
    "error = np.mean(modele_logit.predict(test_data.drop('HasWin', 1)) != test_data['HasWin'].to_numpy())\n",
    "\"Le modèle fonctionne dans \" + str(int((1 - error) * 100)) + \"% des cas\""
   ]
  }
 ],
 "metadata": {
  "kernelspec": {
   "display_name": "Python 3",
   "language": "python",
   "name": "python3"
  },
  "language_info": {
   "codemirror_mode": {
    "name": "ipython",
    "version": 3
   },
   "file_extension": ".py",
   "mimetype": "text/x-python",
   "name": "python",
   "nbconvert_exporter": "python",
   "pygments_lexer": "ipython3",
   "version": "3.7.6"
  }
 },
 "nbformat": 4,
 "nbformat_minor": 4
}
