{
 "cells": [
  {
   "cell_type": "code",
   "execution_count": 123,
   "metadata": {},
   "outputs": [],
   "source": [
    "import pandas as pd\n",
    "import numpy as np\n",
    "import statsmodels.api as sm\n",
    "from sklearn.linear_model import LogisticRegression"
   ]
  },
  {
   "cell_type": "code",
   "execution_count": 124,
   "metadata": {},
   "outputs": [],
   "source": [
    "data = pd.read_csv(\"EuroMillions_numbers.csv\", sep=';')"
   ]
  },
  {
   "cell_type": "code",
   "execution_count": 125,
   "metadata": {},
   "outputs": [],
   "source": [
    "def get_data(d):\n",
    "    d = d.select_dtypes(np.number)\n",
    "    d['HasWin'] = np.ones(d['Winner'].size, dtype=int)\n",
    "    d = d.drop('Gain', 1)\n",
    "    d = d.drop('Winner', 1)\n",
    "    false_data = add_false_data(d)\n",
    "    return pd.concat([d, false_data])\n",
    "\n",
    "def add_false_data(d):\n",
    "    false_data = d.copy()\n",
    "    for index, row in false_data.iterrows():\n",
    "        for i in range(5):\n",
    "            row[i] = np.random.uniform(0, 50)\n",
    "        for i in range(2):\n",
    "            row[i + 5] = np.random.uniform(0, 12)\n",
    "        row[7] = 0\n",
    "    # Enlever les doublons plus tard    \n",
    "    return false_data"
   ]
  },
  {
   "cell_type": "code",
   "execution_count": 126,
   "metadata": {},
   "outputs": [
    {
     "data": {
      "text/plain": [
       "LogisticRegression(C=1.0, class_weight=None, dual=False, fit_intercept=True,\n",
       "                   intercept_scaling=1, l1_ratio=None, max_iter=100,\n",
       "                   multi_class='auto', n_jobs=None, penalty='none',\n",
       "                   random_state=None, solver='lbfgs', tol=0.0001, verbose=0,\n",
       "                   warm_start=False)"
      ]
     },
     "execution_count": 126,
     "metadata": {},
     "output_type": "execute_result"
    }
   ],
   "source": [
    "combined_data = get_data(data)\n",
    "train_data = combined_data.sample(frac = 0.5) #bizarre\n",
    "test_data = combined_data.drop(train_data.index)\n",
    "test_data = [test_data.drop('HasWin', 1), test_data[['HasWin']]]\n",
    "\n",
    "y = train_data['HasWin'].astype('category').cat.codes\n",
    "x = train_data.select_dtypes(np.number).drop('HasWin', 1)\n",
    "\n",
    "modele_logit = LogisticRegression(penalty='none')\n",
    "modele_logit.fit(x,y)"
   ]
  },
  {
   "cell_type": "code",
   "execution_count": 127,
   "metadata": {},
   "outputs": [
    {
     "data": {
      "text/html": [
       "<div>\n",
       "<style scoped>\n",
       "    .dataframe tbody tr th:only-of-type {\n",
       "        vertical-align: middle;\n",
       "    }\n",
       "\n",
       "    .dataframe tbody tr th {\n",
       "        vertical-align: top;\n",
       "    }\n",
       "\n",
       "    .dataframe thead th {\n",
       "        text-align: right;\n",
       "    }\n",
       "</style>\n",
       "<table border=\"1\" class=\"dataframe\">\n",
       "  <thead>\n",
       "    <tr style=\"text-align: right;\">\n",
       "      <th></th>\n",
       "      <th>coef</th>\n",
       "    </tr>\n",
       "  </thead>\n",
       "  <tbody>\n",
       "    <tr>\n",
       "      <th>constante</th>\n",
       "      <td>-1.026040</td>\n",
       "    </tr>\n",
       "    <tr>\n",
       "      <th>N1</th>\n",
       "      <td>-0.010676</td>\n",
       "    </tr>\n",
       "    <tr>\n",
       "      <th>N2</th>\n",
       "      <td>-0.002488</td>\n",
       "    </tr>\n",
       "    <tr>\n",
       "      <th>N3</th>\n",
       "      <td>0.007008</td>\n",
       "    </tr>\n",
       "    <tr>\n",
       "      <th>N4</th>\n",
       "      <td>0.009221</td>\n",
       "    </tr>\n",
       "    <tr>\n",
       "      <th>N5</th>\n",
       "      <td>0.015853</td>\n",
       "    </tr>\n",
       "    <tr>\n",
       "      <th>E1</th>\n",
       "      <td>-0.030427</td>\n",
       "    </tr>\n",
       "    <tr>\n",
       "      <th>E2</th>\n",
       "      <td>0.105271</td>\n",
       "    </tr>\n",
       "  </tbody>\n",
       "</table>\n",
       "</div>"
      ],
      "text/plain": [
       "               coef\n",
       "constante -1.026040\n",
       "N1        -0.010676\n",
       "N2        -0.002488\n",
       "N3         0.007008\n",
       "N4         0.009221\n",
       "N5         0.015853\n",
       "E1        -0.030427\n",
       "E2         0.105271"
      ]
     },
     "execution_count": 127,
     "metadata": {},
     "output_type": "execute_result"
    }
   ],
   "source": [
    "pd.DataFrame(np.concatenate([modele_logit.intercept_.reshape(-1, 1), modele_logit.coef_],axis=1),\n",
    "             index = [\"coef\"],\n",
    "             columns = [\"constante\"]+list(x.columns)).T\n"
   ]
  },
  {
   "cell_type": "code",
   "execution_count": 128,
   "metadata": {},
   "outputs": [
    {
     "name": "stdout",
     "output_type": "stream",
     "text": [
      "0.6215384615384615\n"
     ]
    }
   ],
   "source": [
    "\n",
    "y_pred = modele_logit.predict (test_data[0])\n",
    "sum = 0\n",
    "for i in range (len(y_pred)):\n",
    "    if (y_pred[i] == test_data[1].values.tolist()[i][0]): sum += 1\n",
    "print(sum / len(y_pred))\n",
    "\n",
    "      "
   ]
  }
 ],
 "metadata": {
  "kernelspec": {
   "display_name": "Python 3",
   "language": "python",
   "name": "python3"
  },
  "language_info": {
   "codemirror_mode": {
    "name": "ipython",
    "version": 3
   },
   "file_extension": ".py",
   "mimetype": "text/x-python",
   "name": "python",
   "nbconvert_exporter": "python",
   "pygments_lexer": "ipython3",
   "version": "3.7.6"
  }
 },
 "nbformat": 4,
 "nbformat_minor": 4
}
